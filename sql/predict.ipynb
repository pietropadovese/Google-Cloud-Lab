{
 "cells": [
  {
   "cell_type": "markdown",
   "id": "74ba10fd",
   "metadata": {},
   "source": [
    "# Local predictions with SQL\n",
    "\n",
    "Before running this notebook, you should configure the environment variables in the file `.env.edit` and rename it into `.env`."
   ]
  },
  {
   "cell_type": "code",
   "execution_count": 1,
   "id": "0c84bbaf",
   "metadata": {},
   "outputs": [
    {
     "data": {
      "text/plain": [
       "True"
      ]
     },
     "execution_count": 1,
     "metadata": {},
     "output_type": "execute_result"
    }
   ],
   "source": [
    "import os\n",
    "from sqlalchemy import create_engine\n",
    "from bornrule.sql import BornClassifierSQL\n",
    "from dotenv import load_dotenv\n",
    "load_dotenv(\".env\")"
   ]
  },
  {
   "cell_type": "markdown",
   "id": "ad403ae0",
   "metadata": {},
   "source": [
    "### Check environment variables to connect to PostgreSQL"
   ]
  },
  {
   "cell_type": "code",
   "execution_count": 2,
   "id": "38668687",
   "metadata": {},
   "outputs": [
    {
     "name": "stdout",
     "output_type": "stream",
     "text": [
      "['testuser', '123', 'testdb', 'localhost']\n"
     ]
    }
   ],
   "source": [
    "credentials = ['DB_USER', 'DB_PASS', 'DB_NAME', 'DB_HOST']\n",
    "db = [os.getenv(c) for c in credentials]\n",
    "print(db)"
   ]
  },
  {
   "cell_type": "markdown",
   "id": "317feec7",
   "metadata": {},
   "source": [
    "### Initialize the classifier with the pre-trained 'zoo' model on the PostgreSQL backend"
   ]
  },
  {
   "cell_type": "code",
   "execution_count": 3,
   "id": "bc9b0cbe",
   "metadata": {},
   "outputs": [],
   "source": [
    "engine = create_engine(f\"postgresql+psycopg2://{db[0]}:{db[1]}@/{db[2]}?host={db[3]}\")\n",
    "classifier = BornClassifierSQL(id=\"zoo\", engine=engine)"
   ]
  },
  {
   "cell_type": "markdown",
   "id": "ea403a11",
   "metadata": {},
   "source": [
    "### Explain the model: which are the top 10 features more relevant for mammals?"
   ]
  },
  {
   "cell_type": "code",
   "execution_count": 4,
   "id": "f39cd5e2",
   "metadata": {},
   "outputs": [
    {
     "data": {
      "text/html": [
       "<div>\n",
       "<style scoped>\n",
       "    .dataframe tbody tr th:only-of-type {\n",
       "        vertical-align: middle;\n",
       "    }\n",
       "\n",
       "    .dataframe tbody tr th {\n",
       "        vertical-align: top;\n",
       "    }\n",
       "\n",
       "    .dataframe thead th {\n",
       "        text-align: right;\n",
       "    }\n",
       "</style>\n",
       "<table border=\"1\" class=\"dataframe\">\n",
       "  <thead>\n",
       "    <tr style=\"text-align: right;\">\n",
       "      <th></th>\n",
       "      <th>Amphibian</th>\n",
       "      <th>Bird</th>\n",
       "      <th>Bug</th>\n",
       "      <th>Fish</th>\n",
       "      <th>Invertebrate</th>\n",
       "      <th>Mammal</th>\n",
       "      <th>Reptile</th>\n",
       "    </tr>\n",
       "  </thead>\n",
       "  <tbody>\n",
       "    <tr>\n",
       "      <th>milk=1</th>\n",
       "      <td>0.000000</td>\n",
       "      <td>0.000000</td>\n",
       "      <td>0.000000</td>\n",
       "      <td>0.000000</td>\n",
       "      <td>0.000000</td>\n",
       "      <td>0.250000</td>\n",
       "      <td>0.000000</td>\n",
       "    </tr>\n",
       "    <tr>\n",
       "      <th>eggs=0</th>\n",
       "      <td>0.000000</td>\n",
       "      <td>0.000000</td>\n",
       "      <td>0.000000</td>\n",
       "      <td>0.000000</td>\n",
       "      <td>0.045971</td>\n",
       "      <td>0.203869</td>\n",
       "      <td>0.041118</td>\n",
       "    </tr>\n",
       "    <tr>\n",
       "      <th>hair=1</th>\n",
       "      <td>0.000000</td>\n",
       "      <td>0.000000</td>\n",
       "      <td>0.080421</td>\n",
       "      <td>0.000000</td>\n",
       "      <td>0.048061</td>\n",
       "      <td>0.148134</td>\n",
       "      <td>0.000000</td>\n",
       "    </tr>\n",
       "    <tr>\n",
       "      <th>legs=4</th>\n",
       "      <td>0.098100</td>\n",
       "      <td>0.000000</td>\n",
       "      <td>0.000000</td>\n",
       "      <td>0.000000</td>\n",
       "      <td>0.022655</td>\n",
       "      <td>0.090621</td>\n",
       "      <td>0.075819</td>\n",
       "    </tr>\n",
       "    <tr>\n",
       "      <th>fins=1</th>\n",
       "      <td>0.000000</td>\n",
       "      <td>0.000000</td>\n",
       "      <td>0.000000</td>\n",
       "      <td>0.206985</td>\n",
       "      <td>0.000000</td>\n",
       "      <td>0.070699</td>\n",
       "      <td>0.000000</td>\n",
       "    </tr>\n",
       "    <tr>\n",
       "      <th>legs=2</th>\n",
       "      <td>0.044886</td>\n",
       "      <td>0.179543</td>\n",
       "      <td>0.000000</td>\n",
       "      <td>0.000000</td>\n",
       "      <td>0.000000</td>\n",
       "      <td>0.065560</td>\n",
       "      <td>0.000000</td>\n",
       "    </tr>\n",
       "    <tr>\n",
       "      <th>toothed=1</th>\n",
       "      <td>0.056514</td>\n",
       "      <td>0.000000</td>\n",
       "      <td>0.000000</td>\n",
       "      <td>0.057844</td>\n",
       "      <td>0.014592</td>\n",
       "      <td>0.064160</td>\n",
       "      <td>0.059809</td>\n",
       "    </tr>\n",
       "    <tr>\n",
       "      <th>tail=1</th>\n",
       "      <td>0.021510</td>\n",
       "      <td>0.048418</td>\n",
       "      <td>0.000000</td>\n",
       "      <td>0.049676</td>\n",
       "      <td>0.011108</td>\n",
       "      <td>0.046245</td>\n",
       "      <td>0.047647</td>\n",
       "    </tr>\n",
       "    <tr>\n",
       "      <th>backbone=1</th>\n",
       "      <td>0.043228</td>\n",
       "      <td>0.043228</td>\n",
       "      <td>0.000000</td>\n",
       "      <td>0.043228</td>\n",
       "      <td>0.000000</td>\n",
       "      <td>0.043228</td>\n",
       "      <td>0.043228</td>\n",
       "    </tr>\n",
       "    <tr>\n",
       "      <th>aquatic=0</th>\n",
       "      <td>0.000000</td>\n",
       "      <td>0.041134</td>\n",
       "      <td>0.045990</td>\n",
       "      <td>0.000000</td>\n",
       "      <td>0.034107</td>\n",
       "      <td>0.042400</td>\n",
       "      <td>0.036792</td>\n",
       "    </tr>\n",
       "  </tbody>\n",
       "</table>\n",
       "</div>"
      ],
      "text/plain": [
       "            Amphibian      Bird       Bug      Fish  Invertebrate    Mammal  \\\n",
       "milk=1       0.000000  0.000000  0.000000  0.000000      0.000000  0.250000   \n",
       "eggs=0       0.000000  0.000000  0.000000  0.000000      0.045971  0.203869   \n",
       "hair=1       0.000000  0.000000  0.080421  0.000000      0.048061  0.148134   \n",
       "legs=4       0.098100  0.000000  0.000000  0.000000      0.022655  0.090621   \n",
       "fins=1       0.000000  0.000000  0.000000  0.206985      0.000000  0.070699   \n",
       "legs=2       0.044886  0.179543  0.000000  0.000000      0.000000  0.065560   \n",
       "toothed=1    0.056514  0.000000  0.000000  0.057844      0.014592  0.064160   \n",
       "tail=1       0.021510  0.048418  0.000000  0.049676      0.011108  0.046245   \n",
       "backbone=1   0.043228  0.043228  0.000000  0.043228      0.000000  0.043228   \n",
       "aquatic=0    0.000000  0.041134  0.045990  0.000000      0.034107  0.042400   \n",
       "\n",
       "             Reptile  \n",
       "milk=1      0.000000  \n",
       "eggs=0      0.041118  \n",
       "hair=1      0.000000  \n",
       "legs=4      0.075819  \n",
       "fins=1      0.000000  \n",
       "legs=2      0.000000  \n",
       "toothed=1   0.059809  \n",
       "tail=1      0.047647  \n",
       "backbone=1  0.043228  \n",
       "aquatic=0   0.036792  "
      ]
     },
     "execution_count": 4,
     "metadata": {},
     "output_type": "execute_result"
    }
   ],
   "source": [
    "weights = classifier.explain()\n",
    "weights.sort_values(by=\"Mammal\", ascending=False)[0:10]"
   ]
  },
  {
   "cell_type": "markdown",
   "id": "1541b7be",
   "metadata": {},
   "source": [
    "### Define some test instances"
   ]
  },
  {
   "cell_type": "code",
   "execution_count": 5,
   "id": "93bdf68e",
   "metadata": {},
   "outputs": [],
   "source": [
    "animals = [\n",
    "    {\n",
    "        \"legs=4\": 1,\n",
    "        \"hair=1\": 1,\n",
    "    },\n",
    "    {\n",
    "        \"fins=1\": 1,\n",
    "        \"legs=0\": 1,\n",
    "    },\n",
    "\n",
    "]"
   ]
  },
  {
   "cell_type": "markdown",
   "id": "cdbc5b6b",
   "metadata": {},
   "source": [
    "### Predict the test instances"
   ]
  },
  {
   "cell_type": "code",
   "execution_count": 6,
   "id": "67596de4",
   "metadata": {},
   "outputs": [
    {
     "data": {
      "text/plain": [
       "['Mammal', 'Fish']"
      ]
     },
     "execution_count": 6,
     "metadata": {},
     "output_type": "execute_result"
    }
   ],
   "source": [
    "pred = classifier.predict(animals)\n",
    "pred"
   ]
  },
  {
   "cell_type": "markdown",
   "id": "bd92a783",
   "metadata": {},
   "source": [
    "### Explain the predictions on the test instances"
   ]
  },
  {
   "cell_type": "code",
   "execution_count": 7,
   "id": "218ad6cf",
   "metadata": {},
   "outputs": [
    {
     "data": {
      "text/html": [
       "<div>\n",
       "<style scoped>\n",
       "    .dataframe tbody tr th:only-of-type {\n",
       "        vertical-align: middle;\n",
       "    }\n",
       "\n",
       "    .dataframe tbody tr th {\n",
       "        vertical-align: top;\n",
       "    }\n",
       "\n",
       "    .dataframe thead th {\n",
       "        text-align: right;\n",
       "    }\n",
       "</style>\n",
       "<table border=\"1\" class=\"dataframe\">\n",
       "  <thead>\n",
       "    <tr style=\"text-align: right;\">\n",
       "      <th></th>\n",
       "      <th>Amphibian</th>\n",
       "      <th>Bug</th>\n",
       "      <th>Invertebrate</th>\n",
       "      <th>Mammal</th>\n",
       "      <th>Reptile</th>\n",
       "    </tr>\n",
       "  </thead>\n",
       "  <tbody>\n",
       "    <tr>\n",
       "      <th>hair=1</th>\n",
       "      <td>0.000000</td>\n",
       "      <td>0.056866</td>\n",
       "      <td>0.033984</td>\n",
       "      <td>0.104746</td>\n",
       "      <td>0.000000</td>\n",
       "    </tr>\n",
       "    <tr>\n",
       "      <th>legs=4</th>\n",
       "      <td>0.069367</td>\n",
       "      <td>0.000000</td>\n",
       "      <td>0.016020</td>\n",
       "      <td>0.064079</td>\n",
       "      <td>0.053612</td>\n",
       "    </tr>\n",
       "  </tbody>\n",
       "</table>\n",
       "</div>"
      ],
      "text/plain": [
       "        Amphibian       Bug  Invertebrate    Mammal   Reptile\n",
       "hair=1   0.000000  0.056866      0.033984  0.104746  0.000000\n",
       "legs=4   0.069367  0.000000      0.016020  0.064079  0.053612"
      ]
     },
     "execution_count": 7,
     "metadata": {},
     "output_type": "execute_result"
    }
   ],
   "source": [
    "classifier.explain(animals[0:1]).sort_values(by=pred[0], ascending=False)"
   ]
  },
  {
   "cell_type": "code",
   "execution_count": 8,
   "id": "79aed20f",
   "metadata": {},
   "outputs": [
    {
     "data": {
      "text/html": [
       "<div>\n",
       "<style scoped>\n",
       "    .dataframe tbody tr th:only-of-type {\n",
       "        vertical-align: middle;\n",
       "    }\n",
       "\n",
       "    .dataframe tbody tr th {\n",
       "        vertical-align: top;\n",
       "    }\n",
       "\n",
       "    .dataframe thead th {\n",
       "        text-align: right;\n",
       "    }\n",
       "</style>\n",
       "<table border=\"1\" class=\"dataframe\">\n",
       "  <thead>\n",
       "    <tr style=\"text-align: right;\">\n",
       "      <th></th>\n",
       "      <th>Fish</th>\n",
       "      <th>Invertebrate</th>\n",
       "      <th>Mammal</th>\n",
       "      <th>Reptile</th>\n",
       "    </tr>\n",
       "  </thead>\n",
       "  <tbody>\n",
       "    <tr>\n",
       "      <th>fins=1</th>\n",
       "      <td>0.146361</td>\n",
       "      <td>0.000000</td>\n",
       "      <td>0.049992</td>\n",
       "      <td>0.000000</td>\n",
       "    </tr>\n",
       "    <tr>\n",
       "      <th>legs=0</th>\n",
       "      <td>0.073288</td>\n",
       "      <td>0.051823</td>\n",
       "      <td>0.018923</td>\n",
       "      <td>0.048614</td>\n",
       "    </tr>\n",
       "  </tbody>\n",
       "</table>\n",
       "</div>"
      ],
      "text/plain": [
       "            Fish  Invertebrate    Mammal   Reptile\n",
       "fins=1  0.146361      0.000000  0.049992  0.000000\n",
       "legs=0  0.073288      0.051823  0.018923  0.048614"
      ]
     },
     "execution_count": 8,
     "metadata": {},
     "output_type": "execute_result"
    }
   ],
   "source": [
    "classifier.explain(animals[1:2]).sort_values(by=pred[1], ascending=False)"
   ]
  }
 ],
 "metadata": {
  "kernelspec": {
   "display_name": "Python 3 (ipykernel)",
   "language": "python",
   "name": "python3"
  },
  "language_info": {
   "codemirror_mode": {
    "name": "ipython",
    "version": 3
   },
   "file_extension": ".py",
   "mimetype": "text/x-python",
   "name": "python",
   "nbconvert_exporter": "python",
   "pygments_lexer": "ipython3",
   "version": "3.7.0"
  }
 },
 "nbformat": 4,
 "nbformat_minor": 5
}
