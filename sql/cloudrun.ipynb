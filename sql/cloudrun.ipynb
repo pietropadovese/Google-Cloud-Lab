{
 "cells": [
  {
   "cell_type": "markdown",
   "id": "d5dd3bf0",
   "metadata": {},
   "source": [
    "# GCP Cloud Run predictions with SQL"
   ]
  },
  {
   "cell_type": "code",
   "execution_count": 1,
   "id": "d33c272f",
   "metadata": {},
   "outputs": [],
   "source": [
    "import requests\n",
    "import pandas as pd"
   ]
  },
  {
   "cell_type": "markdown",
   "id": "eca75e9e",
   "metadata": {},
   "source": [
    "### Define some test instances"
   ]
  },
  {
   "cell_type": "code",
   "execution_count": 2,
   "id": "0aab5f48",
   "metadata": {},
   "outputs": [],
   "source": [
    "animals = [\n",
    "    {\n",
    "        \"legs=4\": 1,\n",
    "        \"hair=1\": 1,\n",
    "    },\n",
    "    {\n",
    "        \"fins=1\": 1,\n",
    "        \"legs=0\": 1,\n",
    "    },\n",
    "\n",
    "]"
   ]
  },
  {
   "cell_type": "markdown",
   "id": "5b525ed7",
   "metadata": {},
   "source": [
    "### Predict"
   ]
  },
  {
   "cell_type": "code",
   "execution_count": 3,
   "id": "6a891558",
   "metadata": {},
   "outputs": [
    {
     "data": {
      "text/plain": [
       "['Mammal', 'Fish']"
      ]
     },
     "execution_count": 3,
     "metadata": {},
     "output_type": "execute_result"
    }
   ],
   "source": [
    "url = 'https://sql-zhs42tom2q-uc.a.run.app/predict/'\n",
    "res = requests.post(url, json=animals)\n",
    "res.json()"
   ]
  }
 ],
 "metadata": {
  "kernelspec": {
   "display_name": "Python 3 (ipykernel)",
   "language": "python",
   "name": "python3"
  },
  "language_info": {
   "codemirror_mode": {
    "name": "ipython",
    "version": 3
   },
   "file_extension": ".py",
   "mimetype": "text/x-python",
   "name": "python",
   "nbconvert_exporter": "python",
   "pygments_lexer": "ipython3",
   "version": "3.7.0"
  }
 },
 "nbformat": 4,
 "nbformat_minor": 5
}
