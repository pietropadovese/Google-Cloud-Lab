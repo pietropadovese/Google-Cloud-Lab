{
 "cells": [
  {
   "cell_type": "markdown",
   "id": "d5dd3bf0",
   "metadata": {},
   "source": [
    "# GCP Cloud Run predictions"
   ]
  },
  {
   "cell_type": "code",
   "execution_count": 1,
   "id": "d33c272f",
   "metadata": {},
   "outputs": [],
   "source": [
    "import requests\n",
    "import pandas as pd"
   ]
  },
  {
   "cell_type": "markdown",
   "id": "eca75e9e",
   "metadata": {},
   "source": [
    "### Load data"
   ]
  },
  {
   "cell_type": "code",
   "execution_count": 2,
   "id": "0aab5f48",
   "metadata": {},
   "outputs": [],
   "source": [
    "zoo = pd.read_csv(\"../data/zoo.csv\")"
   ]
  },
  {
   "cell_type": "markdown",
   "id": "0b84835e",
   "metadata": {},
   "source": [
    "### Convert to json"
   ]
  },
  {
   "cell_type": "code",
   "execution_count": 3,
   "id": "85f6e4da",
   "metadata": {},
   "outputs": [],
   "source": [
    "X = zoo.iloc[:, 1:-1]\n",
    "json = [X.iloc[i].to_dict() for i in range(X.shape[0])]"
   ]
  },
  {
   "cell_type": "markdown",
   "id": "5b525ed7",
   "metadata": {},
   "source": [
    "### Predict"
   ]
  },
  {
   "cell_type": "code",
   "execution_count": 4,
   "id": "6a891558",
   "metadata": {},
   "outputs": [
    {
     "name": "stdout",
     "output_type": "stream",
     "text": [
      "['Mammal', 'Mammal', 'Fish', 'Mammal', 'Mammal', 'Mammal', 'Mammal', 'Fish', 'Fish', 'Mammal']\n"
     ]
    }
   ],
   "source": [
    "url = 'https://zoo-zhs42tom2q-uc.a.run.app/predict/'\n",
    "res = requests.post(url, json=json)\n",
    "y_pred = res.json()\n",
    "print(y_pred[0:10])"
   ]
  }
 ],
 "metadata": {
  "kernelspec": {
   "display_name": "Python 3 (ipykernel)",
   "language": "python",
   "name": "python3"
  },
  "language_info": {
   "codemirror_mode": {
    "name": "ipython",
    "version": 3
   },
   "file_extension": ".py",
   "mimetype": "text/x-python",
   "name": "python",
   "nbconvert_exporter": "python",
   "pygments_lexer": "ipython3",
   "version": "3.7.0"
  }
 },
 "nbformat": 4,
 "nbformat_minor": 5
}
