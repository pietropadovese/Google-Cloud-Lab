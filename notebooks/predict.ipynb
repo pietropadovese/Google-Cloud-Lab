{
 "cells": [
  {
   "cell_type": "markdown",
   "id": "b420dc5b",
   "metadata": {},
   "source": [
    "# Local predictions"
   ]
  },
  {
   "cell_type": "code",
   "execution_count": 1,
   "id": "620f109e",
   "metadata": {},
   "outputs": [],
   "source": [
    "import pickle\n",
    "import pandas as pd"
   ]
  },
  {
   "cell_type": "markdown",
   "id": "5b44e1f3",
   "metadata": {},
   "source": [
    "### Load model"
   ]
  },
  {
   "cell_type": "code",
   "execution_count": 2,
   "id": "bd5ea7f0",
   "metadata": {},
   "outputs": [],
   "source": [
    "model = pickle.load(open('model.pkl', 'rb'))"
   ]
  },
  {
   "cell_type": "markdown",
   "id": "0f4ebc43",
   "metadata": {},
   "source": [
    "### Load data"
   ]
  },
  {
   "cell_type": "code",
   "execution_count": 3,
   "id": "e3424ae7",
   "metadata": {},
   "outputs": [],
   "source": [
    "zoo = pd.read_csv('../data/zoo.csv')\n",
    "X = zoo.iloc[:,1:-1]"
   ]
  },
  {
   "cell_type": "markdown",
   "id": "aad1ad52",
   "metadata": {},
   "source": [
    "### Predict"
   ]
  },
  {
   "cell_type": "code",
   "execution_count": 4,
   "id": "64a3bc65",
   "metadata": {},
   "outputs": [
    {
     "name": "stdout",
     "output_type": "stream",
     "text": [
      "Predicted: Mammal\n",
      "Actual Mammal\n"
     ]
    }
   ],
   "source": [
    "n = 0\n",
    "print('Predicted:', model.predict(X[n:n+1])[0])\n",
    "print('Actual', zoo.iloc[n,-1])"
   ]
  }
 ],
 "metadata": {
  "kernelspec": {
   "display_name": "Python 3 (ipykernel)",
   "language": "python",
   "name": "python3"
  },
  "language_info": {
   "codemirror_mode": {
    "name": "ipython",
    "version": 3
   },
   "file_extension": ".py",
   "mimetype": "text/x-python",
   "name": "python",
   "nbconvert_exporter": "python",
   "pygments_lexer": "ipython3",
   "version": "3.7.0"
  }
 },
 "nbformat": 4,
 "nbformat_minor": 5
}
